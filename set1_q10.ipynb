{
 "cells": [
  {
   "cell_type": "markdown",
   "metadata": {},
   "source": [
    "## Question 1"
   ]
  },
  {
   "cell_type": "markdown",
   "metadata": {},
   "source": [
    "    An e-commerce company issues cashback to the consumers who purchase an item from their website.\n",
    "\n",
    "    They have a standard message to print as,\n",
    "\n",
    "    Congratulations, {Name}! You have won {Amount} rupees as refund. \n",
    "    ~ E-commerce company\n",
    "    Write a python code that displays this message to every customer who receives cashback.\n",
    "\n",
    "    Input\n",
    "    The first line of the input contains an integer n which represents the number of consumers in the next n lines.\n",
    "\n",
    "    The next n lines contain a comma-separated list of customers and the amount of cashback.\n",
    "\n",
    "    Output\n",
    "    Print the above message that includes the name and amount in it.\n",
    "\n",
    "    Example\n",
    "    Input\n",
    "    2\n",
    "\n",
    "    Nilesh,100\n",
    "\n",
    "    Minesh,50\n",
    "\n",
    "    Output\n",
    "    Congratulations, Nilesh! You have won 100 rupees as a refund.\n",
    "\n",
    "    ~ E-commerce company\n",
    "\n",
    "    Congratulations, Minesh! You have won 50 rupees as a refund.\n",
    "\n",
    "    ~ E-commerce company"
   ]
  },
  {
   "cell_type": "markdown",
   "metadata": {},
   "source": [
    "## Solution"
   ]
  },
  {
   "cell_type": "markdown",
   "metadata": {},
   "source": [
    "## Question 2"
   ]
  },
  {
   "cell_type": "markdown",
   "metadata": {},
   "source": [
    "    You are provided a sequence of numers in range(m,n). There is one number is missing .Find out that number.\n",
    "\n",
    "    Input\n",
    "    The first line of input is start and end of the range separated by a comma\n",
    "\n",
    "    The input contains a range of values separated by a comma\n",
    "\n",
    "    Output\n",
    "    Missing value\n",
    "\n",
    "    Example\n",
    "    Input\n",
    "    1,9\n",
    "\n",
    "    1,2,3,4,6,7,8\n",
    "\n",
    "    Output\n",
    "    5"
   ]
  },
  {
   "cell_type": "markdown",
   "metadata": {},
   "source": [
    "## Solution"
   ]
  },
  {
   "cell_type": "markdown",
   "metadata": {},
   "source": [
    "## Question 3"
   ]
  },
  {
   "cell_type": "markdown",
   "metadata": {},
   "source": [
    "    You are given a string in the input. Print each character of the string in the same line except any special character or symbol from \"~`!@#$%^&*()<>?//|}{:.\".\n",
    "\n",
    "    Input\n",
    "    String with special characters\n",
    "\n",
    "    Output\n",
    "    string without special characters.\n",
    "\n",
    "    Example\n",
    "    Input\n",
    "    abc.xyz#123\n",
    "\n",
    "    Output\n",
    "    abcxyz123"
   ]
  },
  {
   "cell_type": "markdown",
   "metadata": {},
   "source": [
    "## Solution"
   ]
  }
 ],
 "metadata": {
  "language_info": {
   "name": "python"
  }
 },
 "nbformat": 4,
 "nbformat_minor": 2
}
