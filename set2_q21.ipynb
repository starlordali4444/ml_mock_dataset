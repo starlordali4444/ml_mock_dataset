{
 "cells": [
  {
   "cell_type": "markdown",
   "metadata": {},
   "source": [
    "## Question 1"
   ]
  },
  {
   "cell_type": "markdown",
   "metadata": {},
   "source": [
    "    Pandas: Appending rows to a DataFrame\n",
    "    Write a Pandas program to append rows to an existing DataFrame and display the combined data.\n",
    "\n",
    "    student_data1:\n",
    "\n",
    "    student_id\tname\tmarks\n",
    "    S1\txyz\t123\n",
    "    S12\tpqr\t321\n",
    "    student_data2 (This is a row):\n",
    "\n",
    "    student_id : S13\n",
    "\n",
    "    name : abc\n",
    "\n",
    "    marks : 521\n",
    "\n",
    "    Expected result:\n",
    "\n",
    "    student_id\tname\tmarks\n",
    "    S1\txyz\t123\n",
    "    S12\tpqr\t321\n",
    "    S13\tabc\t521\n",
    "    All column data is of object datatype.Change it to appropriate datatype and then apply logic"
   ]
  },
  {
   "cell_type": "code",
   "execution_count": null,
   "metadata": {
    "vscode": {
     "languageId": "plaintext"
    }
   },
   "outputs": [],
   "source": [
    "import pandas as pd\n",
    "student_data1 = pd.DataFrame({\n",
    "        'student_id': ['S1', 'S2', 'S3', 'S4', 'S5'],\n",
    "         'name': ['Danniella Fenton', 'Ryder Storey', 'Bryce Jensen', 'Ed Bernal', 'Kwame Morin'], \n",
    "        'marks': [200, 210, 190, 222, 199]})\n",
    "\n",
    "s6 = pd.Series(['S6', 'Scarlette Fisher', 205], index=['student_id', 'name', 'marks'])\n",
    "combined_data =      #write your code here\n",
    "\n",
    "\n",
    "\n",
    "\n",
    "print(combined_data.iloc[3])"
   ]
  },
  {
   "cell_type": "markdown",
   "metadata": {},
   "source": [
    "## Solution"
   ]
  },
  {
   "cell_type": "markdown",
   "metadata": {},
   "source": [
    "## Question 2"
   ]
  },
  {
   "cell_type": "markdown",
   "metadata": {},
   "source": [
    "    Write a Pandas program to join the two given dataframes along rows and merge with another dataframe along the common column id.\n",
    "\n",
    "    student_data1:\n",
    "\n",
    "    student_id\tname\tmarks\n",
    "    S1\txyz\t123\n",
    "    student_data2:\n",
    "\n",
    "    student_id\tname\tmarks\n",
    "    S12\tpqr\t321\n",
    "    student_data3:\n",
    "\n",
    "    student_id\texam_id\n",
    "    S1\t23\n",
    "    S12\t24\n",
    "    Expected result:\n",
    "\n",
    "    student_id\tname\tmarks\texam_id\n",
    "    S1\txyz\t123\t23\n",
    "    S12\tpqr\t321\t24\n",
    "    All column data is of object datatype.Change it to appropriate datatype and then apply logic"
   ]
  },
  {
   "cell_type": "markdown",
   "metadata": {},
   "source": [
    "## Solution"
   ]
  },
  {
   "cell_type": "code",
   "execution_count": null,
   "metadata": {
    "vscode": {
     "languageId": "plaintext"
    }
   },
   "outputs": [],
   "source": [
    "import pandas as pd\n",
    "student_data1 = pd.DataFrame({\n",
    "        'student_id': ['S1', 'S2', 'S3', 'S4', 'S5'],\n",
    "         'name': ['Danniella Fenton', 'Ryder Storey', 'Bryce Jensen', 'Ed Bernal', 'Kwame Morin'], \n",
    "        'marks': [200, 210, 190, 222, 199]})\n",
    "\n",
    "student_data2 = pd.DataFrame({\n",
    "        'student_id': ['S4', 'S5', 'S6', 'S7', 'S8'],\n",
    "        'name': ['Scarlette Fisher', 'Carla Williamson', 'Dante Morse', 'Kaiser William', 'Madeeha Preston'], \n",
    "        'marks': [201, 200, 198, 219, 201]})\n",
    "\n",
    "exam_data = pd.DataFrame({\n",
    "        'student_id': ['S1', 'S2', 'S3', 'S4', 'S5', 'S7', 'S8', 'S9', 'S10', 'S11', 'S12', 'S13'],\n",
    "        'exam_id': [23, 45, 12, 67, 21, 55, 33, 14, 56, 83, 88, 12]})\n",
    "\n",
    "\n",
    "#Write your logic\n",
    "\n",
    "\n",
    "final_merged_data = \n",
    "\n",
    "print(final_merged_data.to_string(index = False))"
   ]
  }
 ],
 "metadata": {
  "language_info": {
   "name": "python"
  }
 },
 "nbformat": 4,
 "nbformat_minor": 2
}
